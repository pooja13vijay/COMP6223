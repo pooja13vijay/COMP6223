{
 "cells": [
  {
   "cell_type": "code",
   "execution_count": 125,
   "id": "4e7869d9",
   "metadata": {},
   "outputs": [],
   "source": [
    "import os\n",
    "import cv2\n",
    "import matplotlib.pyplot as plt\n",
    "import numpy as np\n",
    "import pandas as pd"
   ]
  },
  {
   "cell_type": "code",
   "execution_count": 126,
   "id": "400ecfaf",
   "metadata": {},
   "outputs": [],
   "source": [
    "data = {'img_path': [], 'label': []}\n",
    "\n",
    "for root, dirs, files in os.walk(\"./training/\"):\n",
    "    label = os.path.basename(root)\n",
    "    for file in files:\n",
    "        if file.endswith('.jpg'):\n",
    "            data['img_path'].append(os.path.join(root, file))\n",
    "            data['label'].append(label)\n",
    "\n",
    "df_data = pd.DataFrame(data)"
   ]
  },
  {
   "cell_type": "code",
   "execution_count": 166,
   "id": "280ba67a",
   "metadata": {},
   "outputs": [],
   "source": [
    "def orb_sift(image, step_size=8):\n",
    "    # read image from img_path then convert to gray scale\n",
    "    # construct a ORB object \n",
    "    sift = cv2.ORB_create()\n",
    "    # create dense keypoints and compute descriptors\n",
    "    kp = [cv2.KeyPoint(x, y, step_size) for x in range(0, image.shape[0], step_size) for y in range(0, image.shape[1], step_size)]\n",
    "    kp, des = sift.compute(image, kp)\n",
    "    return des"
   ]
  },
  {
   "cell_type": "code",
   "execution_count": 264,
   "id": "e7a4a444",
   "metadata": {},
   "outputs": [],
   "source": [
    "visual_words = []\n",
    "\n",
    "for i, row in df_data.iterrows():\n",
    "    # read image from img_path then convert to gray scale\n",
    "    image = cv2.imread(row['img_path'])\n",
    "    image = cv2.cvtColor(image, cv2.COLOR_BGR2GRAY)\n",
    "    # get descriptors for each image\n",
    "    visual_words.append(orb_sift(image, 5))\n",
    "    \n",
    "df_data['visual_words'] = visual_words"
   ]
  },
  {
   "cell_type": "code",
   "execution_count": 265,
   "id": "c7cf5cc1",
   "metadata": {},
   "outputs": [
    {
     "data": {
      "text/html": [
       "<div>\n",
       "<style scoped>\n",
       "    .dataframe tbody tr th:only-of-type {\n",
       "        vertical-align: middle;\n",
       "    }\n",
       "\n",
       "    .dataframe tbody tr th {\n",
       "        vertical-align: top;\n",
       "    }\n",
       "\n",
       "    .dataframe thead th {\n",
       "        text-align: right;\n",
       "    }\n",
       "</style>\n",
       "<table border=\"1\" class=\"dataframe\">\n",
       "  <thead>\n",
       "    <tr style=\"text-align: right;\">\n",
       "      <th></th>\n",
       "      <th>img_path</th>\n",
       "      <th>label</th>\n",
       "      <th>visual_words</th>\n",
       "    </tr>\n",
       "  </thead>\n",
       "  <tbody>\n",
       "    <tr>\n",
       "      <th>0</th>\n",
       "      <td>./training/bedroom\\0.jpg</td>\n",
       "      <td>bedroom</td>\n",
       "      <td>[[0, 0, 0, 16, 0, 0, 0, 0, 16, 16, 0, 0, 0, 0,...</td>\n",
       "    </tr>\n",
       "    <tr>\n",
       "      <th>1</th>\n",
       "      <td>./training/bedroom\\1.jpg</td>\n",
       "      <td>bedroom</td>\n",
       "      <td>[[35, 135, 98, 137, 214, 145, 170, 111, 15, 65...</td>\n",
       "    </tr>\n",
       "    <tr>\n",
       "      <th>2</th>\n",
       "      <td>./training/bedroom\\10.jpg</td>\n",
       "      <td>bedroom</td>\n",
       "      <td>[[193, 90, 159, 126, 0, 4, 111, 182, 112, 202,...</td>\n",
       "    </tr>\n",
       "    <tr>\n",
       "      <th>3</th>\n",
       "      <td>./training/bedroom\\11.jpg</td>\n",
       "      <td>bedroom</td>\n",
       "      <td>[[248, 195, 108, 186, 140, 201, 69, 239, 134, ...</td>\n",
       "    </tr>\n",
       "    <tr>\n",
       "      <th>4</th>\n",
       "      <td>./training/bedroom\\12.jpg</td>\n",
       "      <td>bedroom</td>\n",
       "      <td>[[123, 170, 195, 88, 238, 177, 73, 87, 211, 83...</td>\n",
       "    </tr>\n",
       "  </tbody>\n",
       "</table>\n",
       "</div>"
      ],
      "text/plain": [
       "                    img_path    label  \\\n",
       "0   ./training/bedroom\\0.jpg  bedroom   \n",
       "1   ./training/bedroom\\1.jpg  bedroom   \n",
       "2  ./training/bedroom\\10.jpg  bedroom   \n",
       "3  ./training/bedroom\\11.jpg  bedroom   \n",
       "4  ./training/bedroom\\12.jpg  bedroom   \n",
       "\n",
       "                                        visual_words  \n",
       "0  [[0, 0, 0, 16, 0, 0, 0, 0, 16, 16, 0, 0, 0, 0,...  \n",
       "1  [[35, 135, 98, 137, 214, 145, 170, 111, 15, 65...  \n",
       "2  [[193, 90, 159, 126, 0, 4, 111, 182, 112, 202,...  \n",
       "3  [[248, 195, 108, 186, 140, 201, 69, 239, 134, ...  \n",
       "4  [[123, 170, 195, 88, 238, 177, 73, 87, 211, 83...  "
      ]
     },
     "execution_count": 265,
     "metadata": {},
     "output_type": "execute_result"
    }
   ],
   "source": [
    "df_data.head()"
   ]
  },
  {
   "cell_type": "code",
   "execution_count": 266,
   "id": "0932a0f7",
   "metadata": {},
   "outputs": [
    {
     "name": "stdout",
     "output_type": "stream",
     "text": [
      "bag of visual words size: (1950046, 32)\n"
     ]
    }
   ],
   "source": [
    "BoVW = df_data['visual_words'].to_list()\n",
    "BoVW = np.vstack(BoVW)\n",
    "print('bag of visual words size:', BoVW.shape)"
   ]
  },
  {
   "cell_type": "code",
   "execution_count": 267,
   "id": "74f45900",
   "metadata": {},
   "outputs": [
    {
     "data": {
      "text/plain": [
       "(891, 32)"
      ]
     },
     "execution_count": 267,
     "metadata": {},
     "output_type": "execute_result"
    }
   ],
   "source": [
    "df_data['visual_words'][1].shape"
   ]
  },
  {
   "cell_type": "code",
   "execution_count": 268,
   "id": "c0cd0ae1",
   "metadata": {},
   "outputs": [],
   "source": [
    "# K-Means clustering\n",
    "from sklearn.cluster import KMeans\n",
    "\n",
    "k_means = KMeans(n_clusters = 50, random_state = 0, n_init = 1, verbose = 0)\n",
    "k_means.fit(BoVW)\n",
    "vocabulary = k_means.cluster_centers_"
   ]
  },
  {
   "cell_type": "code",
   "execution_count": 269,
   "id": "8ebb66db",
   "metadata": {},
   "outputs": [
    {
     "data": {
      "text/plain": [
       "(50, 32)"
      ]
     },
     "execution_count": 269,
     "metadata": {},
     "output_type": "execute_result"
    }
   ],
   "source": [
    "vocabulary.shape"
   ]
  },
  {
   "cell_type": "code",
   "execution_count": 270,
   "id": "6ff6ce11",
   "metadata": {},
   "outputs": [],
   "source": [
    "def histogram_bovw(visual_words, codebook, k):\n",
    "    his = np.zeros(k)\n",
    "    for vw in visual_words:\n",
    "        # find distance from vw to each representation vector (codebook)\n",
    "        dist = np.power(np.power(np.tile(vw, (k, 1)) - codebook, 2).sum(axis=1), 0.5)\n",
    "        # min distance\n",
    "        min_codebook = dist.argsort()[0]\n",
    "        # calculate histogram\n",
    "        his[min_codebook] += 1\n",
    "    return his"
   ]
  },
  {
   "cell_type": "code",
   "execution_count": 271,
   "id": "e314e40d",
   "metadata": {},
   "outputs": [],
   "source": [
    "his_bovw = []\n",
    "\n",
    "for i, row in df_data.iterrows():\n",
    "    # read image from img_path then convert to gray scale\n",
    "    image = cv2.imread(row['img_path'])\n",
    "    image = cv2.cvtColor(image, cv2.COLOR_BGR2GRAY)\n",
    "    his_bovw.append(histogram_bovw(orb_sift(image, 5), vocabulary, 50))\n",
    "\n",
    "his_bovw = np.array(his_bovw)"
   ]
  },
  {
   "cell_type": "code",
   "execution_count": 272,
   "id": "ead67546",
   "metadata": {},
   "outputs": [
    {
     "data": {
      "text/plain": [
       "(1500, 50)"
      ]
     },
     "execution_count": 272,
     "metadata": {},
     "output_type": "execute_result"
    }
   ],
   "source": [
    "his_bovw = np.array(his_bovw)\n",
    "his_bovw.shape"
   ]
  },
  {
   "cell_type": "code",
   "execution_count": 241,
   "id": "21799139",
   "metadata": {},
   "outputs": [],
   "source": [
    "from sklearn.svm import SVC\n",
    "from sklearn.model_selection import train_test_split\n",
    "from sklearn.model_selection import cross_val_score, cross_val_predict\n",
    "from sklearn.metrics import accuracy_score, confusion_matrix, classification_report, top_k_accuracy_score"
   ]
  },
  {
   "cell_type": "code",
   "execution_count": 273,
   "id": "52e23be0",
   "metadata": {},
   "outputs": [
    {
     "name": "stdout",
     "output_type": "stream",
     "text": [
      "(1500, 50) (1500,)\n"
     ]
    }
   ],
   "source": [
    "X = his_bovw\n",
    "y = np.array(df_data['label'].to_list())\n",
    "print(X.shape, y.shape)"
   ]
  },
  {
   "cell_type": "code",
   "execution_count": 289,
   "id": "0cb29f12",
   "metadata": {},
   "outputs": [],
   "source": [
    "X_train, X_test, y_train, y_test = train_test_split(X, y, test_size=0.1)"
   ]
  },
  {
   "cell_type": "code",
   "execution_count": 316,
   "id": "45259d02",
   "metadata": {},
   "outputs": [],
   "source": [
    "import lightgbm as lgb\n",
    "clf = lgb.LGBMClassifier(n_estimators = 50, learning_rate=0.2)\n",
    "clf.fit(X_train, y_train)\n",
    "y_pred=clf.predict(X_test)"
   ]
  },
  {
   "cell_type": "code",
   "execution_count": 317,
   "id": "a9f9098d",
   "metadata": {},
   "outputs": [
    {
     "name": "stdout",
     "output_type": "stream",
     "text": [
      "accuracy: 0.56\n"
     ]
    }
   ],
   "source": [
    "print('accuracy:', accuracy_score(y_test, y_pred))"
   ]
  },
  {
   "cell_type": "code",
   "execution_count": 343,
   "id": "d8142c26",
   "metadata": {},
   "outputs": [],
   "source": [
    "# from sklearn.preprocessing import StandardScaler\n",
    "\n",
    "# scaler = StandardScaler()\n",
    "# X_sc = scaler.fit_transform(X)"
   ]
  },
  {
   "cell_type": "code",
   "execution_count": 365,
   "id": "0e8360c8",
   "metadata": {},
   "outputs": [],
   "source": [
    "X_train, X_test, y_train, y_test = train_test_split(X, y, test_size=0.1)"
   ]
  },
  {
   "cell_type": "code",
   "execution_count": 366,
   "id": "eb06f506",
   "metadata": {},
   "outputs": [],
   "source": [
    "clf = SVC(kernel = 'poly', degree = 3, probability = True).fit(X_train, y_train)"
   ]
  },
  {
   "cell_type": "code",
   "execution_count": 367,
   "id": "027e0f87",
   "metadata": {},
   "outputs": [
    {
     "name": "stdout",
     "output_type": "stream",
     "text": [
      "accuracy: 0.6133333333333333\n",
      "              precision    recall  f1-score   support\n",
      "\n",
      "       Coast       0.80      0.67      0.73        12\n",
      "      Forest       0.46      0.86      0.60         7\n",
      "     Highway       0.60      0.75      0.67         8\n",
      "  Insidecity       0.82      0.64      0.72        14\n",
      "    Mountain       0.50      0.38      0.43        13\n",
      "      Office       0.56      0.45      0.50        11\n",
      " OpenCountry       0.73      0.67      0.70        12\n",
      "      Street       0.70      0.78      0.74         9\n",
      "      Suburb       0.60      0.75      0.67        12\n",
      "TallBuilding       0.89      0.89      0.89         9\n",
      "     bedroom       0.50      0.50      0.50         8\n",
      "  industrial       0.40      0.25      0.31         8\n",
      "     kitchen       0.57      0.36      0.44        11\n",
      "  livingroom       0.44      0.50      0.47         8\n",
      "       store       0.54      0.88      0.67         8\n",
      "\n",
      "    accuracy                           0.61       150\n",
      "   macro avg       0.61      0.62      0.60       150\n",
      "weighted avg       0.62      0.61      0.61       150\n",
      "\n"
     ]
    }
   ],
   "source": [
    "y_pred = clf.predict(X_test)\n",
    "print('accuracy:', accuracy_score(y_test, y_pred))\n",
    "print(classification_report(y_test, y_pred))"
   ]
  },
  {
   "cell_type": "code",
   "execution_count": 368,
   "id": "fd786c95",
   "metadata": {},
   "outputs": [
    {
     "data": {
      "text/plain": [
       "0.8"
      ]
     },
     "execution_count": 368,
     "metadata": {},
     "output_type": "execute_result"
    }
   ],
   "source": [
    "top_k_accuracy_score(y_test, clf.predict_proba(X_test), k=2)"
   ]
  },
  {
   "cell_type": "code",
   "execution_count": 369,
   "id": "5d1c737e",
   "metadata": {},
   "outputs": [
    {
     "data": {
      "text/plain": [
       "array([[8, 0, 2, 0, 0, 0, 2, 0, 0, 0, 0, 0, 0, 0, 0],\n",
       "       [0, 6, 0, 0, 1, 0, 0, 0, 0, 0, 0, 0, 0, 0, 0],\n",
       "       [0, 0, 6, 0, 2, 0, 0, 0, 0, 0, 0, 0, 0, 0, 0],\n",
       "       [1, 1, 1, 9, 0, 0, 0, 1, 0, 1, 0, 0, 0, 0, 0],\n",
       "       [1, 5, 1, 0, 5, 0, 1, 0, 0, 0, 0, 0, 0, 0, 0],\n",
       "       [0, 0, 0, 0, 0, 5, 0, 0, 2, 0, 0, 2, 1, 1, 0],\n",
       "       [0, 0, 0, 1, 2, 0, 8, 1, 0, 0, 0, 0, 0, 0, 0],\n",
       "       [0, 1, 0, 1, 0, 0, 0, 7, 0, 0, 0, 0, 0, 0, 0],\n",
       "       [0, 0, 0, 0, 0, 1, 0, 0, 9, 0, 0, 0, 0, 1, 1],\n",
       "       [0, 0, 0, 0, 0, 0, 0, 1, 0, 8, 0, 0, 0, 0, 0],\n",
       "       [0, 0, 0, 0, 0, 0, 0, 0, 1, 0, 4, 0, 2, 1, 0],\n",
       "       [0, 0, 0, 0, 0, 0, 0, 0, 2, 0, 2, 2, 0, 0, 2],\n",
       "       [0, 0, 0, 0, 0, 2, 0, 0, 1, 0, 1, 0, 4, 2, 1],\n",
       "       [0, 0, 0, 0, 0, 0, 0, 0, 0, 0, 1, 1, 0, 4, 2],\n",
       "       [0, 0, 0, 0, 0, 1, 0, 0, 0, 0, 0, 0, 0, 0, 7]], dtype=int64)"
      ]
     },
     "execution_count": 369,
     "metadata": {},
     "output_type": "execute_result"
    }
   ],
   "source": [
    "confusion_matrix(y_test, y_pred)"
   ]
  },
  {
   "cell_type": "code",
   "execution_count": 144,
   "id": "ccfa7d41",
   "metadata": {},
   "outputs": [],
   "source": [
    "from sklearn.model_selection import GridSearchCV"
   ]
  },
  {
   "cell_type": "code",
   "execution_count": 407,
   "id": "72a580f6",
   "metadata": {},
   "outputs": [],
   "source": [
    "# parameters = {'kernel':['poly'], 'degree': [2,3],'C':np.linspace(0.1, 3, 50), 'gamma': [0.1, 1.0, 10, 100]}\n",
    "#parameters = {'kernel':['rbf'], 'C':np.linspace(0.001, 10, 50), 'gamma': [0.1, 1.0, 10, 100]}\n",
    "# parameters = {'C': [1, 5, 10, 100, 1000], 'gamma': [0.001, 0.0001], 'kernel': ['rbf']}"
   ]
  },
  {
   "cell_type": "code",
   "execution_count": 408,
   "id": "fc02116b",
   "metadata": {},
   "outputs": [
    {
     "data": {
      "text/plain": [
       "GridSearchCV(estimator=SVC(),\n",
       "             param_grid={'C': array([0.1       , 0.15918367, 0.21836735, 0.27755102, 0.33673469,\n",
       "       0.39591837, 0.45510204, 0.51428571, 0.57346939, 0.63265306,\n",
       "       0.69183673, 0.75102041, 0.81020408, 0.86938776, 0.92857143,\n",
       "       0.9877551 , 1.04693878, 1.10612245, 1.16530612, 1.2244898 ,\n",
       "       1.28367347, 1.34285714, 1.40204082, 1.46122449, 1.52040816,\n",
       "       1.57959184, 1.63877551, 1.69795918, 1.75714286, 1.81632653,\n",
       "       1.8755102 , 1.93469388, 1.99387755, 2.05306122, 2.1122449 ,\n",
       "       2.17142857, 2.23061224, 2.28979592, 2.34897959, 2.40816327,\n",
       "       2.46734694, 2.52653061, 2.58571429, 2.64489796, 2.70408163,\n",
       "       2.76326531, 2.82244898, 2.88163265, 2.94081633, 3.        ]),\n",
       "                         'degree': [2, 3], 'gamma': [0.1, 1.0, 10, 100],\n",
       "                         'kernel': ['poly']})"
      ]
     },
     "execution_count": 408,
     "metadata": {},
     "output_type": "execute_result"
    }
   ],
   "source": [
    "# grid_search = GridSearchCV(SVC(), parameters)\n",
    "# grid_search.fit(X_train, y_train)"
   ]
  },
  {
   "cell_type": "code",
   "execution_count": 410,
   "id": "ba5f195d",
   "metadata": {},
   "outputs": [
    {
     "data": {
      "text/plain": [
       "0.5281481481481481"
      ]
     },
     "execution_count": 410,
     "metadata": {},
     "output_type": "execute_result"
    }
   ],
   "source": [
    "# grid_search.best_score_"
   ]
  },
  {
   "cell_type": "code",
   "execution_count": 406,
   "id": "a0a0540b",
   "metadata": {},
   "outputs": [
    {
     "data": {
      "text/plain": [
       "{'C': 2.0530612244897957, 'degree': 2, 'kernel': 'rbf'}"
      ]
     },
     "execution_count": 406,
     "metadata": {},
     "output_type": "execute_result"
    }
   ],
   "source": [
    "# grid_search.best_params_"
   ]
  },
  {
   "cell_type": "code",
   "execution_count": 149,
   "id": "79989068",
   "metadata": {},
   "outputs": [
    {
     "name": "stdout",
     "output_type": "stream",
     "text": [
      "accuracy: 0.08666666666666667\n",
      "              precision    recall  f1-score   support\n",
      "\n",
      "       Coast       0.00      0.00      0.00        13\n",
      "      Forest       0.00      0.00      0.00        15\n",
      "     Highway       0.00      0.00      0.00        23\n",
      "  Insidecity       0.00      0.00      0.00        19\n",
      "    Mountain       0.09      1.00      0.16        26\n",
      "      Office       0.00      0.00      0.00        16\n",
      " OpenCountry       0.00      0.00      0.00        29\n",
      "      Street       0.00      0.00      0.00        20\n",
      "      Suburb       0.00      0.00      0.00        17\n",
      "TallBuilding       0.00      0.00      0.00        19\n",
      "     bedroom       0.00      0.00      0.00        22\n",
      "  industrial       0.00      0.00      0.00        17\n",
      "     kitchen       0.00      0.00      0.00        24\n",
      "  livingroom       0.00      0.00      0.00        18\n",
      "       store       0.00      0.00      0.00        22\n",
      "\n",
      "    accuracy                           0.09       300\n",
      "   macro avg       0.01      0.07      0.01       300\n",
      "weighted avg       0.01      0.09      0.01       300\n",
      "\n"
     ]
    },
    {
     "name": "stderr",
     "output_type": "stream",
     "text": [
      "C:\\Users\\pooja\\anaconda3\\lib\\site-packages\\sklearn\\metrics\\_classification.py:1245: UndefinedMetricWarning: Precision and F-score are ill-defined and being set to 0.0 in labels with no predicted samples. Use `zero_division` parameter to control this behavior.\n",
      "  _warn_prf(average, modifier, msg_start, len(result))\n",
      "C:\\Users\\pooja\\anaconda3\\lib\\site-packages\\sklearn\\metrics\\_classification.py:1245: UndefinedMetricWarning: Precision and F-score are ill-defined and being set to 0.0 in labels with no predicted samples. Use `zero_division` parameter to control this behavior.\n",
      "  _warn_prf(average, modifier, msg_start, len(result))\n",
      "C:\\Users\\pooja\\anaconda3\\lib\\site-packages\\sklearn\\metrics\\_classification.py:1245: UndefinedMetricWarning: Precision and F-score are ill-defined and being set to 0.0 in labels with no predicted samples. Use `zero_division` parameter to control this behavior.\n",
      "  _warn_prf(average, modifier, msg_start, len(result))\n"
     ]
    }
   ],
   "source": [
    "# y_pred = grid_search.predict(X_test)\n",
    "# print('accuracy:', accuracy_score(y_test, y_pred))\n",
    "# print(classification_report(y_test, y_pred))"
   ]
  },
  {
   "cell_type": "code",
   "execution_count": 150,
   "id": "5ea90665",
   "metadata": {},
   "outputs": [],
   "source": [
    "from sklearn.naive_bayes import MultinomialNB, GaussianNB"
   ]
  },
  {
   "cell_type": "code",
   "execution_count": 374,
   "id": "9d3d513f",
   "metadata": {},
   "outputs": [],
   "source": [
    "clf = GaussianNB().fit(X_train, y_train)"
   ]
  },
  {
   "cell_type": "code",
   "execution_count": 375,
   "id": "b4c61b22",
   "metadata": {},
   "outputs": [
    {
     "name": "stdout",
     "output_type": "stream",
     "text": [
      "accuracy: 0.47333333333333333\n",
      "              precision    recall  f1-score   support\n",
      "\n",
      "       Coast       0.54      0.58      0.56        12\n",
      "      Forest       0.50      0.71      0.59         7\n",
      "     Highway       0.62      0.62      0.62         8\n",
      "  Insidecity       0.75      0.43      0.55        14\n",
      "    Mountain       0.57      0.31      0.40        13\n",
      "      Office       0.25      0.09      0.13        11\n",
      " OpenCountry       0.40      0.50      0.44        12\n",
      "      Street       0.47      0.78      0.58         9\n",
      "      Suburb       0.47      0.75      0.58        12\n",
      "TallBuilding       0.78      0.78      0.78         9\n",
      "     bedroom       0.40      0.50      0.44         8\n",
      "  industrial       0.00      0.00      0.00         8\n",
      "     kitchen       0.33      0.09      0.14        11\n",
      "  livingroom       0.38      0.38      0.38         8\n",
      "       store       0.33      0.75      0.46         8\n",
      "\n",
      "    accuracy                           0.47       150\n",
      "   macro avg       0.45      0.48      0.44       150\n",
      "weighted avg       0.47      0.47      0.44       150\n",
      "\n"
     ]
    }
   ],
   "source": [
    "y_pred = clf.predict(X_test)\n",
    "print('accuracy:', accuracy_score(y_test, y_pred))\n",
    "print(classification_report(y_test, y_pred))"
   ]
  },
  {
   "cell_type": "code",
   "execution_count": 411,
   "id": "45bfefa9",
   "metadata": {},
   "outputs": [
    {
     "data": {
      "text/plain": [
       "0.66"
      ]
     },
     "execution_count": 411,
     "metadata": {},
     "output_type": "execute_result"
    }
   ],
   "source": [
    "top_k_accuracy_score(y_test, clf.predict_proba(X_test), k=2)"
   ]
  },
  {
   "cell_type": "code",
   "execution_count": 419,
   "id": "cb687ec5",
   "metadata": {},
   "outputs": [
    {
     "data": {
      "text/plain": [
       "0.18333333333333332"
      ]
     },
     "execution_count": 419,
     "metadata": {},
     "output_type": "execute_result"
    }
   ],
   "source": [
    "from sklearn.kernel_approximation import RBFSampler\n",
    "from sklearn.linear_model import SGDClassifier\n",
    "\n",
    "rbf_feature = RBFSampler(random_state=1)\n",
    "X_features = rbf_feature.fit_transform(X)\n",
    "clf = SGDClassifier(max_iter=200)\n",
    "clf.fit(X_features, y)\n",
    "clf.score(X_features, y)"
   ]
  },
  {
   "cell_type": "code",
   "execution_count": 420,
   "id": "28c884c0",
   "metadata": {},
   "outputs": [
    {
     "name": "stdout",
     "output_type": "stream",
     "text": [
      "accuracy: 0.24666666666666667\n",
      "              precision    recall  f1-score   support\n",
      "\n",
      "       Coast       0.50      0.33      0.40        12\n",
      "      Forest       0.33      0.57      0.42         7\n",
      "     Highway       0.44      0.50      0.47         8\n",
      "  Insidecity       1.00      0.14      0.25        14\n",
      "    Mountain       0.60      0.23      0.33        13\n",
      "      Office       0.00      0.00      0.00        11\n",
      " OpenCountry       1.00      0.08      0.15        12\n",
      "      Street       0.50      0.11      0.18         9\n",
      "      Suburb       0.38      0.25      0.30        12\n",
      "TallBuilding       1.00      0.22      0.36         9\n",
      "     bedroom       0.12      0.75      0.20         8\n",
      "  industrial       0.00      0.00      0.00         8\n",
      "     kitchen       0.00      0.00      0.00        11\n",
      "  livingroom       0.00      0.00      0.00         8\n",
      "       store       0.15      0.88      0.25         8\n",
      "\n",
      "    accuracy                           0.25       150\n",
      "   macro avg       0.40      0.27      0.22       150\n",
      "weighted avg       0.44      0.25      0.22       150\n",
      "\n"
     ]
    },
    {
     "name": "stderr",
     "output_type": "stream",
     "text": [
      "C:\\Users\\pooja\\anaconda3\\lib\\site-packages\\sklearn\\svm\\_base.py:985: ConvergenceWarning: Liblinear failed to converge, increase the number of iterations.\n",
      "  warnings.warn(\"Liblinear failed to converge, increase \"\n",
      "C:\\Users\\pooja\\anaconda3\\lib\\site-packages\\sklearn\\metrics\\_classification.py:1245: UndefinedMetricWarning: Precision and F-score are ill-defined and being set to 0.0 in labels with no predicted samples. Use `zero_division` parameter to control this behavior.\n",
      "  _warn_prf(average, modifier, msg_start, len(result))\n",
      "C:\\Users\\pooja\\anaconda3\\lib\\site-packages\\sklearn\\metrics\\_classification.py:1245: UndefinedMetricWarning: Precision and F-score are ill-defined and being set to 0.0 in labels with no predicted samples. Use `zero_division` parameter to control this behavior.\n",
      "  _warn_prf(average, modifier, msg_start, len(result))\n",
      "C:\\Users\\pooja\\anaconda3\\lib\\site-packages\\sklearn\\metrics\\_classification.py:1245: UndefinedMetricWarning: Precision and F-score are ill-defined and being set to 0.0 in labels with no predicted samples. Use `zero_division` parameter to control this behavior.\n",
      "  _warn_prf(average, modifier, msg_start, len(result))\n"
     ]
    }
   ],
   "source": [
    "from sklearn.svm import LinearSVC\n",
    "\n",
    "clf2 = LinearSVC().fit(X_train, y_train)\n",
    "y_pred = clf2.predict(X_test)\n",
    "print('accuracy:', accuracy_score(y_test, y_pred))\n",
    "print(classification_report(y_test, y_pred))"
   ]
  },
  {
   "cell_type": "code",
   "execution_count": 424,
   "id": "b792fdab",
   "metadata": {},
   "outputs": [
    {
     "name": "stdout",
     "output_type": "stream",
     "text": [
      "accuracy: 0.5466666666666666\n",
      "              precision    recall  f1-score   support\n",
      "\n",
      "       Coast       0.70      0.58      0.64        12\n",
      "      Forest       0.46      0.86      0.60         7\n",
      "     Highway       0.78      0.88      0.82         8\n",
      "  Insidecity       0.90      0.64      0.75        14\n",
      "    Mountain       0.62      0.38      0.48        13\n",
      "      Office       0.67      0.36      0.47        11\n",
      " OpenCountry       0.60      0.50      0.55        12\n",
      "      Street       0.50      0.67      0.57         9\n",
      "      Suburb       0.59      0.83      0.69        12\n",
      "TallBuilding       0.89      0.89      0.89         9\n",
      "     bedroom       0.40      0.50      0.44         8\n",
      "  industrial       0.18      0.25      0.21         8\n",
      "     kitchen       0.38      0.27      0.32        11\n",
      "  livingroom       0.00      0.00      0.00         8\n",
      "       store       0.50      0.62      0.56         8\n",
      "\n",
      "    accuracy                           0.55       150\n",
      "   macro avg       0.54      0.55      0.53       150\n",
      "weighted avg       0.57      0.55      0.54       150\n",
      "\n"
     ]
    },
    {
     "name": "stderr",
     "output_type": "stream",
     "text": [
      "C:\\Users\\pooja\\anaconda3\\lib\\site-packages\\sklearn\\svm\\_base.py:985: ConvergenceWarning: Liblinear failed to converge, increase the number of iterations.\n",
      "  warnings.warn(\"Liblinear failed to converge, increase \"\n"
     ]
    }
   ],
   "source": [
    "from sklearn.pipeline import make_pipeline\n",
    "from sklearn.preprocessing import StandardScaler\n",
    "from sklearn.datasets import make_classification\n",
    "clf2 = make_pipeline(StandardScaler(), LinearSVC(random_state=0,  tol=1e-4))\n",
    "clf2.fit(X_train, y_train)\n",
    "y_pred = clf2.predict(X_test)\n",
    "print('accuracy:', accuracy_score(y_test, y_pred))\n",
    "print(classification_report(y_test, y_pred))"
   ]
  },
  {
   "cell_type": "code",
   "execution_count": null,
   "id": "f7e61715",
   "metadata": {},
   "outputs": [],
   "source": []
  }
 ],
 "metadata": {
  "kernelspec": {
   "display_name": "Python 3",
   "language": "python",
   "name": "python3"
  },
  "language_info": {
   "codemirror_mode": {
    "name": "ipython",
    "version": 3
   },
   "file_extension": ".py",
   "mimetype": "text/x-python",
   "name": "python",
   "nbconvert_exporter": "python",
   "pygments_lexer": "ipython3",
   "version": "3.8.5"
  }
 },
 "nbformat": 4,
 "nbformat_minor": 5
}
