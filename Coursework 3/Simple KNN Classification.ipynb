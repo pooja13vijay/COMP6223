{
 "cells": [
  {
   "cell_type": "code",
   "execution_count": 1,
   "id": "769df50e",
   "metadata": {},
   "outputs": [],
   "source": [
    "import numpy as np\n",
    "import os\n",
    "import cv2\n",
    "import matplotlib.pyplot as plt\n",
    "from PIL import Image"
   ]
  },
  {
   "cell_type": "code",
   "execution_count": 22,
   "id": "6678ab69",
   "metadata": {},
   "outputs": [],
   "source": [
    "data = [] # data list\n",
    "labels = [] # label list\n",
    "\n",
    "# iterate over the training images in folder\n",
    "for folder in os.listdir('training//'):\n",
    "    for file in os.listdir('training//'+folder+'//'):\n",
    "        img = Image.open('training//'+folder+'//'+file)\n",
    "        img_width, img_height = img.size\n",
    "        # crop image at center\n",
    "        img = img.crop(((img_width - 200) // 2,(img_height - 200) // 2,(img_width + 200) // 2,(img_height + 200) // 2))\n",
    "        # resize image to image with height and width 16\n",
    "        img = img.resize((16,16))\n",
    "        # convert to array\n",
    "        img = np.array(img)\n",
    "        # standardize images ensuring all pixels values have mean of zero and standard deviation of 1\n",
    "        img = (img - img.mean()) / 255.0\n",
    "        # reshape the images to 16x16\n",
    "        img = img.reshape(16*16)\n",
    "        # append the final processed image to data list\n",
    "        data.append(img)\n",
    "        # append label to label list\n",
    "        labels.append(folder)"
   ]
  },
  {
   "cell_type": "code",
   "execution_count": 50,
   "id": "1c4f0761",
   "metadata": {},
   "outputs": [],
   "source": [
    "from sklearn.model_selection import train_test_split\n",
    "\n",
    "# split data into train and test set with 10% data in the test set.\n",
    "train_data, test_data, train_label, test_label = train_test_split(data, labels, test_size=0.1, random_state = 2020)"
   ]
  },
  {
   "cell_type": "code",
   "execution_count": 51,
   "id": "2070461c",
   "metadata": {},
   "outputs": [
    {
     "data": {
      "text/plain": [
       "KNeighborsClassifier(n_neighbors=100)"
      ]
     },
     "execution_count": 51,
     "metadata": {},
     "output_type": "execute_result"
    }
   ],
   "source": [
    "from sklearn.neighbors import KNeighborsClassifier\n",
    "\n",
    "# instantiate k neighbour classifier with 100 clusters\n",
    "neigh = KNeighborsClassifier(n_neighbors=100)\n",
    "# fit classifier on training data and train labels\n",
    "neigh.fit(train_data, train_label)"
   ]
  },
  {
   "cell_type": "code",
   "execution_count": 52,
   "id": "f376a730",
   "metadata": {},
   "outputs": [
    {
     "data": {
      "text/plain": [
       "0.18"
      ]
     },
     "execution_count": 52,
     "metadata": {},
     "output_type": "execute_result"
    }
   ],
   "source": [
    "from sklearn.metrics import accuracy_score\n",
    "# calculate accuracy of test data\n",
    "accuracy_score(test_label, neigh.predict(test_data))"
   ]
  },
  {
   "cell_type": "code",
   "execution_count": 53,
   "id": "6b7b86ed",
   "metadata": {},
   "outputs": [
    {
     "name": "stdout",
     "output_type": "stream",
     "text": [
      "              precision    recall  f1-score   support\n",
      "\n",
      "       Coast       0.20      0.17      0.18        12\n",
      "      Forest       0.08      0.67      0.14         6\n",
      "     Highway       0.16      0.79      0.27        14\n",
      "  Insidecity       0.00      0.00      0.00        10\n",
      "    Mountain       1.00      0.10      0.18        10\n",
      "      Office       1.00      0.10      0.18        10\n",
      " OpenCountry       0.18      0.17      0.17        12\n",
      "      Street       0.67      0.15      0.25        13\n",
      "      Suburb       1.00      0.40      0.57        10\n",
      "TallBuilding       0.00      0.00      0.00         8\n",
      "     bedroom       0.00      0.00      0.00         7\n",
      "  industrial       0.00      0.00      0.00         7\n",
      "     kitchen       0.00      0.00      0.00        12\n",
      "  livingroom       0.00      0.00      0.00         8\n",
      "       store       0.00      0.00      0.00        11\n",
      "\n",
      "    accuracy                           0.18       150\n",
      "   macro avg       0.29      0.17      0.13       150\n",
      "weighted avg       0.31      0.18      0.14       150\n",
      "\n"
     ]
    },
    {
     "name": "stderr",
     "output_type": "stream",
     "text": [
      "C:\\Users\\pooja\\anaconda3\\lib\\site-packages\\sklearn\\metrics\\_classification.py:1245: UndefinedMetricWarning: Precision and F-score are ill-defined and being set to 0.0 in labels with no predicted samples. Use `zero_division` parameter to control this behavior.\n",
      "  _warn_prf(average, modifier, msg_start, len(result))\n",
      "C:\\Users\\pooja\\anaconda3\\lib\\site-packages\\sklearn\\metrics\\_classification.py:1245: UndefinedMetricWarning: Precision and F-score are ill-defined and being set to 0.0 in labels with no predicted samples. Use `zero_division` parameter to control this behavior.\n",
      "  _warn_prf(average, modifier, msg_start, len(result))\n",
      "C:\\Users\\pooja\\anaconda3\\lib\\site-packages\\sklearn\\metrics\\_classification.py:1245: UndefinedMetricWarning: Precision and F-score are ill-defined and being set to 0.0 in labels with no predicted samples. Use `zero_division` parameter to control this behavior.\n",
      "  _warn_prf(average, modifier, msg_start, len(result))\n"
     ]
    }
   ],
   "source": [
    "from sklearn.metrics import classification_report\n",
    "\n",
    "# generate the classification report\n",
    "print(classification_report(test_label, neigh.predict(test_data)))"
   ]
  },
  {
   "cell_type": "code",
   "execution_count": 46,
   "id": "2b94fc96",
   "metadata": {},
   "outputs": [
    {
     "data": {
      "text/plain": [
       "GridSearchCV(estimator=KNeighborsClassifier(),\n",
       "             param_grid={'algorithm': ['auto', 'ball_tree', 'kd_tree', 'brute'],\n",
       "                         'leaf_size': [20, 25, 30, 50], 'metric': ['minkowski'],\n",
       "                         'n_neighbors': [30, 40, 50, 60, 70, 80, 90, 100, 110,\n",
       "                                         120]})"
      ]
     },
     "execution_count": 46,
     "metadata": {},
     "output_type": "execute_result"
    }
   ],
   "source": [
    "from sklearn.model_selection import GridSearchCV\n",
    "\n",
    "parameters = {'n_neighbors':[30, 40, 50, 60, 70, 80, 90, 100,110, 120], 'algorithm' : ['auto', 'ball_tree', 'kd_tree', 'brute'], \n",
    "              'leaf_size': [20, 25, 30, 50], 'metric': ['minkowski']}\n",
    "\n",
    "grid_search = GridSearchCV(KNeighborsClassifier(), parameters)\n",
    "grid_search.fit(train_data, train_label)"
   ]
  },
  {
   "cell_type": "code",
   "execution_count": 47,
   "id": "6501ca78",
   "metadata": {},
   "outputs": [
    {
     "data": {
      "text/plain": [
       "0.17333333333333334"
      ]
     },
     "execution_count": 47,
     "metadata": {},
     "output_type": "execute_result"
    }
   ],
   "source": [
    "grid_search.best_score_"
   ]
  },
  {
   "cell_type": "code",
   "execution_count": 48,
   "id": "2bb2d718",
   "metadata": {},
   "outputs": [
    {
     "data": {
      "text/plain": [
       "{'algorithm': 'auto',\n",
       " 'leaf_size': 20,\n",
       " 'metric': 'minkowski',\n",
       " 'n_neighbors': 30}"
      ]
     },
     "execution_count": 48,
     "metadata": {},
     "output_type": "execute_result"
    }
   ],
   "source": [
    "grid_search.best_params_"
   ]
  },
  {
   "cell_type": "code",
   "execution_count": 49,
   "id": "b671bc14",
   "metadata": {},
   "outputs": [
    {
     "name": "stdout",
     "output_type": "stream",
     "text": [
      "accuracy: 0.2\n",
      "              precision    recall  f1-score   support\n",
      "\n",
      "       Coast       0.09      0.15      0.11        13\n",
      "      Forest       0.24      0.57      0.33        14\n",
      "     Highway       0.24      0.85      0.38        13\n",
      "  Insidecity       0.00      0.00      0.00         7\n",
      "    Mountain       0.00      0.00      0.00         5\n",
      "      Office       0.00      0.00      0.00        11\n",
      " OpenCountry       0.15      0.40      0.22        10\n",
      "      Street       0.33      0.50      0.40         6\n",
      "      Suburb       1.00      0.22      0.36         9\n",
      "TallBuilding       0.00      0.00      0.00         5\n",
      "     bedroom       0.00      0.00      0.00        11\n",
      "  industrial       0.00      0.00      0.00        13\n",
      "     kitchen       0.00      0.00      0.00         8\n",
      "  livingroom       0.00      0.00      0.00        13\n",
      "       store       0.00      0.00      0.00        12\n",
      "\n",
      "    accuracy                           0.20       150\n",
      "   macro avg       0.14      0.18      0.12       150\n",
      "weighted avg       0.13      0.20      0.13       150\n",
      "\n"
     ]
    },
    {
     "name": "stderr",
     "output_type": "stream",
     "text": [
      "C:\\Users\\pooja\\anaconda3\\lib\\site-packages\\sklearn\\metrics\\_classification.py:1245: UndefinedMetricWarning: Precision and F-score are ill-defined and being set to 0.0 in labels with no predicted samples. Use `zero_division` parameter to control this behavior.\n",
      "  _warn_prf(average, modifier, msg_start, len(result))\n",
      "C:\\Users\\pooja\\anaconda3\\lib\\site-packages\\sklearn\\metrics\\_classification.py:1245: UndefinedMetricWarning: Precision and F-score are ill-defined and being set to 0.0 in labels with no predicted samples. Use `zero_division` parameter to control this behavior.\n",
      "  _warn_prf(average, modifier, msg_start, len(result))\n",
      "C:\\Users\\pooja\\anaconda3\\lib\\site-packages\\sklearn\\metrics\\_classification.py:1245: UndefinedMetricWarning: Precision and F-score are ill-defined and being set to 0.0 in labels with no predicted samples. Use `zero_division` parameter to control this behavior.\n",
      "  _warn_prf(average, modifier, msg_start, len(result))\n"
     ]
    }
   ],
   "source": [
    "y_pred = grid_search.predict(test_data)\n",
    "print('accuracy:', accuracy_score(test_label, y_pred))\n",
    "print(classification_report(test_label, y_pred))"
   ]
  },
  {
   "cell_type": "code",
   "execution_count": null,
   "id": "8d8fc73c",
   "metadata": {},
   "outputs": [],
   "source": []
  }
 ],
 "metadata": {
  "kernelspec": {
   "display_name": "Python 3",
   "language": "python",
   "name": "python3"
  },
  "language_info": {
   "codemirror_mode": {
    "name": "ipython",
    "version": 3
   },
   "file_extension": ".py",
   "mimetype": "text/x-python",
   "name": "python",
   "nbconvert_exporter": "python",
   "pygments_lexer": "ipython3",
   "version": "3.8.5"
  }
 },
 "nbformat": 4,
 "nbformat_minor": 5
}
